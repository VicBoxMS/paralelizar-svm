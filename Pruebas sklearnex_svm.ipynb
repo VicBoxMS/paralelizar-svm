{
 "cells": [
  {
   "cell_type": "markdown",
   "id": "261a049b-1cd3-45ed-b649-3206c3788bf1",
   "metadata": {},
   "source": [
    "## Instalaciones necesarias"
   ]
  },
  {
   "cell_type": "code",
   "execution_count": 1,
   "id": "0c6755ab-4eae-43bf-9b6e-9d67530251f9",
   "metadata": {},
   "outputs": [
    {
     "name": "stdout",
     "output_type": "stream",
     "text": [
      "Looking in indexes: https://pypi.org/simple, https://pypi.ngc.nvidia.com\n",
      "Requirement already satisfied: dpcpp-cpp-rt in /opt/conda/lib/python3.8/site-packages (2022.1.0)\n",
      "Requirement already satisfied: intel-cmplr-lic-rt==2022.1.0 in /opt/conda/lib/python3.8/site-packages (from dpcpp-cpp-rt) (2022.1.0)\n",
      "Requirement already satisfied: intel-opencl-rt==2022.1.0 in /opt/conda/lib/python3.8/site-packages (from dpcpp-cpp-rt) (2022.1.0)\n",
      "Requirement already satisfied: intel-openmp==2022.1.0 in /opt/conda/lib/python3.8/site-packages (from dpcpp-cpp-rt) (2022.1.0)\n",
      "Requirement already satisfied: intel-cmplr-lib-rt==2022.1.0 in /opt/conda/lib/python3.8/site-packages (from dpcpp-cpp-rt) (2022.1.0)\n",
      "Requirement already satisfied: tbb==2021.* in /opt/conda/lib/python3.8/site-packages (from intel-opencl-rt==2022.1.0->dpcpp-cpp-rt) (2021.6.0)\n",
      "\u001b[33mWARNING: Running pip as the 'root' user can result in broken permissions and conflicting behaviour with the system package manager. It is recommended to use a virtual environment instead: https://pip.pypa.io/warnings/venv\u001b[0m\n",
      "Looking in indexes: https://pypi.org/simple, https://pypi.ngc.nvidia.com\n",
      "Requirement already satisfied: scikit-learn-intelex in /opt/conda/lib/python3.8/site-packages (2021.5.3)\n",
      "Requirement already satisfied: daal4py==2021.5.3 in /opt/conda/lib/python3.8/site-packages (from scikit-learn-intelex) (2021.5.3)\n",
      "Requirement already satisfied: scikit-learn>=0.22 in /opt/conda/lib/python3.8/site-packages (from scikit-learn-intelex) (0.24.0)\n",
      "Requirement already satisfied: numpy>=1.15 in /opt/conda/lib/python3.8/site-packages (from daal4py==2021.5.3->scikit-learn-intelex) (1.22.2)\n",
      "Requirement already satisfied: daal==2021.5.3 in /opt/conda/lib/python3.8/site-packages (from daal4py==2021.5.3->scikit-learn-intelex) (2021.5.3)\n",
      "Requirement already satisfied: tbb==2021.* in /opt/conda/lib/python3.8/site-packages (from daal==2021.5.3->daal4py==2021.5.3->scikit-learn-intelex) (2021.6.0)\n",
      "Requirement already satisfied: joblib>=0.11 in /opt/conda/lib/python3.8/site-packages (from scikit-learn>=0.22->scikit-learn-intelex) (1.1.0)\n",
      "Requirement already satisfied: threadpoolctl>=2.0.0 in /opt/conda/lib/python3.8/site-packages (from scikit-learn>=0.22->scikit-learn-intelex) (3.1.0)\n",
      "Requirement already satisfied: scipy>=0.19.1 in /opt/conda/lib/python3.8/site-packages (from scikit-learn>=0.22->scikit-learn-intelex) (1.6.3)\n",
      "\u001b[33mWARNING: Running pip as the 'root' user can result in broken permissions and conflicting behaviour with the system package manager. It is recommended to use a virtual environment instead: https://pip.pypa.io/warnings/venv\u001b[0m\n",
      "Looking in indexes: https://pypi.org/simple, https://pypi.ngc.nvidia.com\n",
      "Requirement already satisfied: dpctl in /opt/conda/lib/python3.8/site-packages (0.11.3)\n",
      "Requirement already satisfied: numpy in /opt/conda/lib/python3.8/site-packages (from dpctl) (1.22.2)\n",
      "Requirement already satisfied: dpcpp-cpp-rt in /opt/conda/lib/python3.8/site-packages (from dpctl) (2022.1.0)\n",
      "Requirement already satisfied: intel-cmplr-lib-rt==2022.1.0 in /opt/conda/lib/python3.8/site-packages (from dpcpp-cpp-rt->dpctl) (2022.1.0)\n",
      "Requirement already satisfied: intel-openmp==2022.1.0 in /opt/conda/lib/python3.8/site-packages (from dpcpp-cpp-rt->dpctl) (2022.1.0)\n",
      "Requirement already satisfied: intel-opencl-rt==2022.1.0 in /opt/conda/lib/python3.8/site-packages (from dpcpp-cpp-rt->dpctl) (2022.1.0)\n",
      "Requirement already satisfied: intel-cmplr-lic-rt==2022.1.0 in /opt/conda/lib/python3.8/site-packages (from dpcpp-cpp-rt->dpctl) (2022.1.0)\n",
      "Requirement already satisfied: tbb==2021.* in /opt/conda/lib/python3.8/site-packages (from intel-opencl-rt==2022.1.0->dpcpp-cpp-rt->dpctl) (2021.6.0)\n",
      "\u001b[33mWARNING: Running pip as the 'root' user can result in broken permissions and conflicting behaviour with the system package manager. It is recommended to use a virtual environment instead: https://pip.pypa.io/warnings/venv\u001b[0m\n"
     ]
    }
   ],
   "source": [
    "##Instalaciones necesarias \n",
    "!pip install dpcpp-cpp-rt\n",
    "!pip install scikit-learn-intelex\n",
    "!pip install dpctl"
   ]
  },
  {
   "cell_type": "markdown",
   "id": "06f12859-d390-4ff4-b1f2-98f9690445e3",
   "metadata": {},
   "source": [
    "## Importacion de librerias\n",
    "\n",
    "> ! Importante !\n",
    "\n",
    "> Llamar sklearnex.patch_sklearn(), antes de invocar al clasificador de sklearn sklearn.svm.SVC()"
   ]
  },
  {
   "cell_type": "code",
   "execution_count": 2,
   "id": "98bd5f24-2d4c-4937-b2bc-7d7de59d9c27",
   "metadata": {},
   "outputs": [
    {
     "name": "stderr",
     "output_type": "stream",
     "text": [
      "Intel(R) Extension for Scikit-learn* enabled (https://github.com/intel/scikit-learn-intelex)\n"
     ]
    }
   ],
   "source": [
    "import dpctl\n",
    "from sklearnex import patch_sklearn, config_context\n",
    "patch_sklearn(['SVC'])\n",
    "##\n",
    "import numpy as np\n",
    "import pandas as pd\n",
    "from sklearn.svm import SVC\n",
    "from sklearn.model_selection import GridSearchCV\n",
    "from sklearn.datasets import load_iris,load_breast_cancer\n",
    "from sklearn.model_selection import train_test_split\n",
    "from sklearn.preprocessing import LabelEncoder\n",
    "import time"
   ]
  },
  {
   "cell_type": "code",
   "execution_count": 3,
   "id": "482c9332-eeae-41b8-b045-a8ffbe356be9",
   "metadata": {},
   "outputs": [],
   "source": [
    "data=load_breast_cancer()\n",
    "X = data['data']#scaler.fit_transform(data['data'])\n",
    "y = data['target']\n",
    "X_train, X_test, y_train, y_test = train_test_split(X,y ,test_size=0.5, random_state=0)#"
   ]
  },
  {
   "cell_type": "code",
   "execution_count": 4,
   "id": "5cf8b5bc-a9bd-4bbb-b65b-dab52c506b28",
   "metadata": {},
   "outputs": [
    {
     "name": "stdout",
     "output_type": "stream",
     "text": [
      "0.9578947368421052\n",
      "0.9578947368421052\n",
      "0.9578947368421052\n",
      "0.9578947368421052\n",
      "[1.5227127075195312, 1.53389573097229, 1.4537642002105713, 1.4418442249298096]\n",
      "Tiempo en segundos 1.4880542159080505\n"
     ]
    }
   ],
   "source": [
    "r=[]\n",
    "for i in range(0,4):\n",
    "    a = time.time()\n",
    "    clf = SVC(kernel='linear')\n",
    "    clf.fit(X_train,y_train)\n",
    "    print(clf.score(X_test,y_test))\n",
    "    b = time.time()\n",
    "    r.append(b-a)\n",
    "print(r)\n",
    "print('Tiempo en segundos',np.mean(r),)"
   ]
  },
  {
   "cell_type": "markdown",
   "id": "d1f744d3-0eac-4d81-ae03-b89f790940c0",
   "metadata": {},
   "source": [
    "## Evaluar desempeño con 60,000 instancias\n",
    "\n",
    "> 2 repeticiones del ejercicio"
   ]
  },
  {
   "cell_type": "code",
   "execution_count": 6,
   "id": "21e5b606-78cd-436b-9e38-4325ed1c5db6",
   "metadata": {},
   "outputs": [
    {
     "name": "stdout",
     "output_type": "stream",
     "text": [
      "# Observaciones:  64743 Numero de Atributos: 18\n"
     ]
    }
   ],
   "source": [
    "ruta = 'airline_standardscale.csv'\n",
    "df=pd.read_csv(ruta)\n",
    "labelencoder= LabelEncoder()\n",
    "df.iloc[:,-1] = labelencoder.fit_transform(df.iloc[:,-1]) \n",
    "data=list()\n",
    "data={'data':np.array(df.iloc[:,:-1]),'target':np.array(df.iloc[:,-1])}\n",
    "X = data['data']#scaler.fit_transform(data['data'])\n",
    "y = data['target']\n",
    "X_train, X_test, y_train, y_test = train_test_split(X,y ,test_size=0.5, random_state=0)#\n",
    "o , a = X_train.shape\n",
    "print('# Observaciones: ',o,'Numero de Atributos:',a)"
   ]
  },
  {
   "cell_type": "code",
   "execution_count": 7,
   "id": "3aa1e758-ba84-4dbd-8d9b-86c19bc09b7a",
   "metadata": {},
   "outputs": [
    {
     "name": "stdout",
     "output_type": "stream",
     "text": [
      "0.9243790930433708\n",
      "0.9243790930433708\n",
      "[71.0037944316864, 69.33770108222961] \n",
      "\n",
      "Tiempo promedio  de ejecución :  70.17074775695801\n"
     ]
    }
   ],
   "source": [
    "r=[]\n",
    "for i in range(0,2):\n",
    "    a = time.time()\n",
    "    svc = SVC(kernel='rbf')\n",
    "    parameters = {'gamma':[0.005,0.05,0.5]}\n",
    "    clasificador_svm = GridSearchCV(svc, parameters,n_jobs=-1,cv=3)\n",
    "    clasificador_svm.fit(X_train,y_train)\n",
    "    print(clasificador_svm.score(X_test,y_test))\n",
    "    b = time.time()\n",
    "    r.append(b-a)\n",
    "print(r,'\\n')\n",
    "print('Tiempo promedio  de ejecución : ', np.mean(r))"
   ]
  },
  {
   "cell_type": "markdown",
   "id": "2bf96b49-3ba7-4b02-8739-f4b41f6a83ad",
   "metadata": {
    "tags": []
   },
   "source": [
    "## Comparacion al no paralelizar\n",
    "\n",
    "> Reiniciar kernel y continuar"
   ]
  },
  {
   "cell_type": "code",
   "execution_count": 1,
   "id": "6fd2048e-15e5-47b9-a789-4aef5d50f35c",
   "metadata": {},
   "outputs": [],
   "source": [
    "import numpy as np\n",
    "import pandas as pd\n",
    "from sklearn.svm import SVC\n",
    "from sklearn.model_selection import GridSearchCV\n",
    "from sklearn.datasets import load_iris,load_breast_cancer\n",
    "from sklearn.model_selection import train_test_split\n",
    "from sklearn.preprocessing import LabelEncoder\n",
    "import time"
   ]
  },
  {
   "cell_type": "code",
   "execution_count": 2,
   "id": "0848969a-1742-4ac1-b71a-0dfcd6de8945",
   "metadata": {},
   "outputs": [
    {
     "name": "stdout",
     "output_type": "stream",
     "text": [
      "# Observaciones:  64743 Numero de Atributos: 18\n"
     ]
    }
   ],
   "source": [
    "ruta = 'airline_standardscale.csv'\n",
    "df=pd.read_csv(ruta)\n",
    "labelencoder= LabelEncoder()\n",
    "df.iloc[:,-1] = labelencoder.fit_transform(df.iloc[:,-1]) \n",
    "data=list()\n",
    "data={'data':np.array(df.iloc[:,:-1]),'target':np.array(df.iloc[:,-1])}\n",
    "X = data['data']#scaler.fit_transform(data['data'])\n",
    "y = data['target']\n",
    "X_train, X_test, y_train, y_test = train_test_split(X,y ,test_size=0.5, random_state=0)#\n",
    "o , a = X_train.shape\n",
    "print('# Observaciones: ',o,'Numero de Atributos:',a)"
   ]
  },
  {
   "cell_type": "code",
   "execution_count": 3,
   "id": "7ceaf646-6218-42e7-91e4-40bd7cf7752d",
   "metadata": {},
   "outputs": [
    {
     "name": "stdout",
     "output_type": "stream",
     "text": [
      "0.9243636475966885\n",
      "0.9243636475966885\n",
      "[1020.8426647186279, 1010.4952232837677] \n",
      "\n",
      "Tiempo promedio  de ejecución :  1015.6689440011978\n"
     ]
    }
   ],
   "source": [
    "r=[]\n",
    "for i in range(0,2):\n",
    "    a = time.time()\n",
    "    svc = SVC(kernel='rbf')\n",
    "    parameters = {'gamma':[0.005,0.05,0.5]}\n",
    "    clasificador_svm = GridSearchCV(svc, parameters,n_jobs=-1,cv=3)\n",
    "    clasificador_svm.fit(X_train,y_train)\n",
    "    print(clasificador_svm.score(X_test,y_test))\n",
    "    b = time.time()\n",
    "    r.append(b-a)\n",
    "print(r,'\\n')\n",
    "print('Tiempo promedio  de ejecución : ', np.mean(r))"
   ]
  },
  {
   "cell_type": "markdown",
   "id": "68b452a6-7b6f-41c9-a6bc-2c851f556ab2",
   "metadata": {},
   "source": [
    "## Grafica de comparación"
   ]
  },
  {
   "cell_type": "code",
   "execution_count": 4,
   "id": "f6b9311d-a22d-4981-b630-888c322e0ee1",
   "metadata": {},
   "outputs": [],
   "source": [
    "import matplotlib.pyplot as plt"
   ]
  },
  {
   "cell_type": "code",
   "execution_count": 8,
   "id": "4981c19f-e079-4bd9-8130-94e0f4447aad",
   "metadata": {},
   "outputs": [
    {
     "data": {
      "image/png": "[encoded data removed]",
      "text/plain": [
       "<Figure size 432x288 with 1 Axes>"
      ]
     },
     "metadata": {
      "needs_background": "light"
     },
     "output_type": "display_data"
    }
   ],
   "source": [
    "fig = plt.figure()\n",
    "ax = fig.add_axes([0,0,1,1])\n",
    "procedimiento = ['SVM skleanx+sklearn', 'SVM sklearn']\n",
    "tiempos = [70.17, np.mean(r)]\n",
    "ax.bar(procedimiento[0],tiempos[0])\n",
    "ax.bar(procedimiento[1],tiempos[1])\n",
    "ax.set_title('Tiempos de ejecucion 60,000 observaciones (menos es mejor)')\n",
    "plt.show()"
   ]
  },
  {
   "cell_type": "code",
   "execution_count": 9,
   "id": "a8cfbd82-8d37-404a-b4c6-37e94f3e00c6",
   "metadata": {},
   "outputs": [
    {
     "name": "stdout",
     "output_type": "stream",
     "text": [
      "# The following is the parsable format, which can be fed to other\n",
      "# programs. Each different item in every column has an unique ID\n",
      "# starting from zero.\n",
      "# CPU,Core,Socket,Node,,L1d,L1i,L2,L3\n",
      "0,0,0,0,,0,0,0,0\n",
      "1,1,0,0,,1,1,1,1\n",
      "2,2,0,0,,2,2,2,2\n",
      "3,3,0,0,,3,3,3,3\n",
      "4,4,0,0,,4,4,4,4\n",
      "5,5,0,0,,5,5,5,5\n",
      "6,6,0,0,,6,6,6,6\n",
      "7,7,0,0,,7,7,7,7\n"
     ]
    }
   ],
   "source": [
    "# Experimento realizado en una maquina con 8 procesadores (vcpu)\n",
    "!lscpu -p"
   ]
  },
  {
   "cell_type": "code",
   "execution_count": null,
   "id": "4a0943e7-53df-4557-93e9-a22c1cd5aa83",
   "metadata": {},
   "outputs": [],
   "source": []
  }
 ],
 "metadata": {
  "kernelspec": {
   "display_name": "Python 3 (ipykernel)",
   "language": "python",
   "name": "python3"
  },
  "language_info": {
   "codemirror_mode": {
    "name": "ipython",
    "version": 3
   },
   "file_extension": ".py",
   "mimetype": "text/x-python",
   "name": "python",
   "nbconvert_exporter": "python",
   "pygments_lexer": "ipython3",
   "version": "3.8.12"
  }
 },
 "nbformat": 4,
 "nbformat_minor": 5
}
